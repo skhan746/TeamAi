{
 "cells": [
  {
   "cell_type": "code",
   "execution_count": 3,
   "id": "a6998995",
   "metadata": {},
   "outputs": [
    {
     "name": "stdout",
     "output_type": "stream",
     "text": [
      "Enter your Nameshaz\n",
      "hello shaz\n"
     ]
    }
   ],
   "source": [
    "name = input(\"Enter your Name\")\n",
    "print(\"hello\", name)"
   ]
  },
  {
   "cell_type": "code",
   "execution_count": 1,
   "id": "6749eb8f",
   "metadata": {},
   "outputs": [
    {
     "name": "stdout",
     "output_type": "stream",
     "text": [
      "this should update\n"
     ]
    }
   ],
   "source": [
    "print(\"this should update\")"
   ]
  },
  {
   "cell_type": "code",
   "execution_count": 1,
   "id": "5471f672",
   "metadata": {},
   "outputs": [
    {
     "name": "stdout",
     "output_type": "stream",
     "text": [
      "second update\n"
     ]
    }
   ],
   "source": [
    "print(\"second update\")"
   ]
  },
  {
   "cell_type": "code",
   "execution_count": null,
   "id": "7ba7105e",
   "metadata": {},
   "outputs": [],
   "source": []
  }
 ],
 "metadata": {
  "kernelspec": {
   "display_name": "Python 3 (ipykernel)",
   "language": "python",
   "name": "python3"
  },
  "language_info": {
   "codemirror_mode": {
    "name": "ipython",
    "version": 3
   },
   "file_extension": ".py",
   "mimetype": "text/x-python",
   "name": "python",
   "nbconvert_exporter": "python",
   "pygments_lexer": "ipython3",
   "version": "3.9.7"
  }
 },
 "nbformat": 4,
 "nbformat_minor": 5
}
